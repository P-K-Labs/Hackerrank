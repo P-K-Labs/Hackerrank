{
 "cells": [
  {
   "cell_type": "markdown",
   "metadata": {},
   "source": [
    "# Sum and Prod"
   ]
  },
  {
   "cell_type": "markdown",
   "metadata": {},
   "source": [
    "sum\n",
    "\n",
    "The sum tool returns the sum of array elements over a given axis. By default, the axis value is None. Therefore, it performs a sum over all the dimensions of the input array."
   ]
  },
  {
   "cell_type": "code",
   "execution_count": 2,
   "metadata": {},
   "outputs": [
    {
     "name": "stdout",
     "output_type": "stream",
     "text": [
      "[4 6]\n",
      "[3 7]\n",
      "10\n",
      "10\n"
     ]
    }
   ],
   "source": [
    "import numpy\n",
    "\n",
    "my_array = numpy.array([[1,2], [3,4]])\n",
    "\n",
    "print(numpy.sum(my_array, axis = 0))\n",
    "print(numpy.sum(my_array, axis = 1))\n",
    "print(numpy.sum(my_array, axis = None))\n",
    "print(numpy.sum(my_array))"
   ]
  },
  {
   "cell_type": "markdown",
   "metadata": {},
   "source": [
    "prod\n",
    "\n",
    "The prod tool returns the product of array elements over a given axis. By default, the axis value is None. Therefore, it performs the product over all the dimensions of the input array."
   ]
  },
  {
   "cell_type": "code",
   "execution_count": 3,
   "metadata": {},
   "outputs": [
    {
     "name": "stdout",
     "output_type": "stream",
     "text": [
      "[3 8]\n",
      "[ 2 12]\n",
      "24\n",
      "24\n"
     ]
    }
   ],
   "source": [
    "import numpy\n",
    "\n",
    "my_array = numpy.array([[1,2], [3,4]])\n",
    "\n",
    "print(numpy.prod(my_array, axis = 0))\n",
    "print(numpy.prod(my_array, axis = 1))\n",
    "print(numpy.prod(my_array, axis = None))\n",
    "print(numpy.prod(my_array))"
   ]
  },
  {
   "cell_type": "markdown",
   "metadata": {},
   "source": [
    "Task\n",
    "\n",
    "You are given a 2-D array with dimensions NXM.\n",
    "Your task is to perform the sum tool over axis 0 and then find the product of that result."
   ]
  },
  {
   "cell_type": "code",
   "execution_count": 5,
   "metadata": {},
   "outputs": [
    {
     "name": "stdout",
     "output_type": "stream",
     "text": [
      "2 2\n",
      "1 2\n",
      "3 4\n",
      "24\n"
     ]
    }
   ],
   "source": [
    "import numpy\n",
    "\n",
    "n, m = map(int, input().split())\n",
    "\n",
    "arr = numpy.array([input().split() for _ in range(n)], dtype = int)\n",
    "\n",
    "print(numpy.prod(numpy.sum(arr, axis = 0)))"
   ]
  },
  {
   "cell_type": "code",
   "execution_count": null,
   "metadata": {},
   "outputs": [],
   "source": []
  }
 ],
 "metadata": {
  "kernelspec": {
   "display_name": "Python 3",
   "language": "python",
   "name": "python3"
  },
  "language_info": {
   "codemirror_mode": {
    "name": "ipython",
    "version": 3
   },
   "file_extension": ".py",
   "mimetype": "text/x-python",
   "name": "python",
   "nbconvert_exporter": "python",
   "pygments_lexer": "ipython3",
   "version": "3.7.6"
  }
 },
 "nbformat": 4,
 "nbformat_minor": 4
}
