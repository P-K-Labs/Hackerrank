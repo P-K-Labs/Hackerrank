{
 "cells": [
  {
   "cell_type": "markdown",
   "metadata": {},
   "source": [
    "# Detect Floating Point Number\n",
    "\n"
   ]
  },
  {
   "cell_type": "markdown",
   "metadata": {},
   "source": [
    "Tutorial"
   ]
  },
  {
   "cell_type": "markdown",
   "metadata": {},
   "source": [
    "The re.search() expression scans through a string looking for the first location where the regex pattern produces a match.\n",
    "It either returns a MatchObject instance or returns None if no position in the string matches the pattern.\n"
   ]
  },
  {
   "cell_type": "code",
   "execution_count": 5,
   "metadata": {},
   "outputs": [
    {
     "name": "stdout",
     "output_type": "stream",
     "text": [
      "True\n"
     ]
    }
   ],
   "source": [
    "import re\n",
    "\n",
    "print(bool(re.search(\"ly\", \"similarly\")))"
   ]
  },
  {
   "cell_type": "markdown",
   "metadata": {},
   "source": [
    "The re.match() expression only matches at the beginning of the string.\n",
    "It either returns a MatchObject instance or returns None if the string does not match the pattern."
   ]
  },
  {
   "cell_type": "code",
   "execution_count": 7,
   "metadata": {},
   "outputs": [
    {
     "name": "stdout",
     "output_type": "stream",
     "text": [
      "False\n",
      "True\n"
     ]
    }
   ],
   "source": [
    "import re\n",
    "\n",
    "print(bool(re.match(\"ly\",\"similarly\")))\n",
    "\n",
    "print(bool(re.match(\"ly\",\"ly should be in the beginning\")))\n"
   ]
  },
  {
   "cell_type": "markdown",
   "metadata": {},
   "source": [
    "You are given a string N.\n",
    "\n",
    "Your task is to verify that N is a floating point number.\n",
    "\n",
    "In this task, a valid float number must satisfy all of the following requirements:\n",
    "   - Number can start with +, - or . symbol.\n",
    "   - Number must contain at least 1 decimal value.\n",
    "   - Number must have exactly one . symbol.\n",
    "   - Number must not give any exceptions when converted using float(N)."
   ]
  },
  {
   "cell_type": "code",
   "execution_count": 9,
   "metadata": {},
   "outputs": [
    {
     "name": "stdout",
     "output_type": "stream",
     "text": [
      "4\n",
      "4.000\n",
      "True\n",
      "-1.00\n",
      "True\n",
      "+4.54\n",
      "True\n",
      "SomeRandomStuff\n",
      "False\n"
     ]
    }
   ],
   "source": [
    "for _ in range(int(input())):\n",
    "    print(bool(re.match(r\"^[-+]?[0-9]*\\.[0-9]+$\", input())))"
   ]
  },
  {
   "cell_type": "markdown",
   "metadata": {},
   "source": [
    "Explaination:\n",
    "    \n",
    "^ says start of the expression.\n",
    "\n",
    "[-+]? says it can start with either - or +.\n",
    "\n",
    "[0-9] says any number from 0-9 can be followed after it.\n",
    "\n",
    "*says that whichever thing it follows[in this case it is[0-9]], it can repeat arbitrarily times, even 0 times.\n",
    "\n",
    "'.' is placeholder for any character.(for the answer it should be '\\.' instead of '.' ; '\\' is escape character. Because of this you can literally mean a dot in expression).\n",
    "\n",
    "again[0-9] as explained earlier.\n",
    "\n",
    "'+' says that whichever thing it follows[in this case it is[0-9]], it can repeat arbitrarily times, but atleast one time.\n",
    "\n",
    "$ follows whichever thing it should come in the end."
   ]
  },
  {
   "cell_type": "code",
   "execution_count": null,
   "metadata": {},
   "outputs": [],
   "source": []
  }
 ],
 "metadata": {
  "kernelspec": {
   "display_name": "Python 3",
   "language": "python",
   "name": "python3"
  },
  "language_info": {
   "codemirror_mode": {
    "name": "ipython",
    "version": 3
   },
   "file_extension": ".py",
   "mimetype": "text/x-python",
   "name": "python",
   "nbconvert_exporter": "python",
   "pygments_lexer": "ipython3",
   "version": "3.7.6"
  }
 },
 "nbformat": 4,
 "nbformat_minor": 4
}
