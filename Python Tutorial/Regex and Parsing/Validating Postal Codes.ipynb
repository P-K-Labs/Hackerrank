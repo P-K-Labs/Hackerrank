{
 "cells": [
  {
   "cell_type": "markdown",
   "metadata": {},
   "source": [
    "# Validating Postal Codes\n",
    "\n"
   ]
  },
  {
   "cell_type": "markdown",
   "metadata": {},
   "source": [
    "A valid postal code P have to fullfil both below requirements:\n",
    "\n",
    "   - P must be a number in the range from 100000 to 999999 inclusive.\n",
    "   - P must not contain more than one alternating repetitive digit pair."
   ]
  },
  {
   "cell_type": "markdown",
   "metadata": {},
   "source": [
    "Alternating repetitive digits are digits which repeat immediately after the next digit. In other words, an alternating repetitive digit pair is formed by two equal digits that have just a single digit between them.\n",
    "\n",
    "For example:\n",
    "\n",
    "121426 # Here, 1 is an alternating repetitive digit.\n",
    "\n",
    "523563 # Here, NO digit is an alternating repetitive digit.\n",
    "\n",
    "552523 # Here, both 2 and 5 are alternating repetitive digits.\n",
    "\n",
    "Your task is to provide two regular expressions regex_integer_in_range and regex_alternating_repetitive_digit_pair. Where:\n",
    "\n",
    "regex_integer_in_range should match only integers range from 100000 to 999999 inclusive"
   ]
  },
  {
   "cell_type": "markdown",
   "metadata": {},
   "source": [
    "regex_alternating_repetitive_digit_pair should find alternating repetitive digits pairs in a given string.\n",
    "\n",
    "Both these regular expressions will be used by the provided code template to check if the input string p is a valid postal code"
   ]
  },
  {
   "cell_type": "code",
   "execution_count": 7,
   "metadata": {},
   "outputs": [
    {
     "name": "stdout",
     "output_type": "stream",
     "text": [
      "110000\n",
      "False\n"
     ]
    }
   ],
   "source": [
    "regex_integer_in_range = r\"^[1-9]\\d{5}$\"\n",
    "regex_alternating_repetitive_digit_pair = r\"(\\d)(?=\\d\\1)\"\n",
    "\n",
    "import re\n",
    "P = input()\n",
    "\n",
    "print (bool(re.match(regex_integer_in_range, P)) \n",
    "and len(re.findall(regex_alternating_repetitive_digit_pair, P)) < 2)"
   ]
  },
  {
   "cell_type": "code",
   "execution_count": 8,
   "metadata": {},
   "outputs": [
    {
     "data": {
      "text/plain": [
       "['0', '0']"
      ]
     },
     "execution_count": 8,
     "metadata": {},
     "output_type": "execute_result"
    }
   ],
   "source": [
    "re.findall(regex_alternating_repetitive_digit_pair, P)"
   ]
  },
  {
   "cell_type": "code",
   "execution_count": null,
   "metadata": {},
   "outputs": [],
   "source": []
  }
 ],
 "metadata": {
  "kernelspec": {
   "display_name": "Python 3",
   "language": "python",
   "name": "python3"
  },
  "language_info": {
   "codemirror_mode": {
    "name": "ipython",
    "version": 3
   },
   "file_extension": ".py",
   "mimetype": "text/x-python",
   "name": "python",
   "nbconvert_exporter": "python",
   "pygments_lexer": "ipython3",
   "version": "3.7.6"
  }
 },
 "nbformat": 4,
 "nbformat_minor": 4
}
