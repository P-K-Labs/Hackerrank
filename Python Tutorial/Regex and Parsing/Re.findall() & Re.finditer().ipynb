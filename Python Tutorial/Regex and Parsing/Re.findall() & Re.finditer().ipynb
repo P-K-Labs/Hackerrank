{
 "cells": [
  {
   "cell_type": "markdown",
   "metadata": {},
   "source": [
    "# Re.findall() & Re.finditer()\n",
    "\n"
   ]
  },
  {
   "cell_type": "markdown",
   "metadata": {},
   "source": [
    "re.findall()\n",
    "\n",
    "The expression re.findall() returns all the non-overlapping matches of patterns in a string as a list of strings."
   ]
  },
  {
   "cell_type": "code",
   "execution_count": 4,
   "metadata": {},
   "outputs": [
    {
     "data": {
      "text/plain": [
       "['h',\n",
       " 't',\n",
       " 't',\n",
       " 'p',\n",
       " 'w',\n",
       " 'w',\n",
       " 'w',\n",
       " 'h',\n",
       " 'a',\n",
       " 'c',\n",
       " 'k',\n",
       " 'e',\n",
       " 'r',\n",
       " 'r',\n",
       " 'a',\n",
       " 'n',\n",
       " 'k',\n",
       " 'c',\n",
       " 'o',\n",
       " 'm']"
      ]
     },
     "execution_count": 4,
     "metadata": {},
     "output_type": "execute_result"
    }
   ],
   "source": [
    "import re\n",
    "\n",
    "re.findall('\\w','http://www.hackerrank.com/')"
   ]
  },
  {
   "cell_type": "markdown",
   "metadata": {},
   "source": [
    "re.finditer()\n",
    "\n",
    "The expression re.finditer() returns an iterator yielding MatchObject instances over all non-overlapping matches for the re pattern in the string."
   ]
  },
  {
   "cell_type": "code",
   "execution_count": 9,
   "metadata": {},
   "outputs": [
    {
     "name": "stdout",
     "output_type": "stream",
     "text": [
      "<callable_iterator object at 0x0000021A2F3B2748>\n",
      "['h', 't', 't', 'p', 'w', 'w', 'w', 'h', 'a', 'c', 'k', 'e', 'r', 'r', 'a', 'n', 'k', 'c', 'o', 'm']\n",
      "<re.Match object; span=(0, 1), match='h'>\n",
      "<re.Match object; span=(1, 2), match='t'>\n",
      "<re.Match object; span=(2, 3), match='t'>\n",
      "<re.Match object; span=(3, 4), match='p'>\n",
      "<re.Match object; span=(7, 8), match='w'>\n",
      "<re.Match object; span=(8, 9), match='w'>\n",
      "<re.Match object; span=(9, 10), match='w'>\n",
      "<re.Match object; span=(11, 12), match='h'>\n",
      "<re.Match object; span=(12, 13), match='a'>\n",
      "<re.Match object; span=(13, 14), match='c'>\n",
      "<re.Match object; span=(14, 15), match='k'>\n",
      "<re.Match object; span=(15, 16), match='e'>\n",
      "<re.Match object; span=(16, 17), match='r'>\n",
      "<re.Match object; span=(17, 18), match='r'>\n",
      "<re.Match object; span=(18, 19), match='a'>\n",
      "<re.Match object; span=(19, 20), match='n'>\n",
      "<re.Match object; span=(20, 21), match='k'>\n",
      "<re.Match object; span=(22, 23), match='c'>\n",
      "<re.Match object; span=(23, 24), match='o'>\n",
      "<re.Match object; span=(24, 25), match='m'>\n",
      "h\n",
      "t\n",
      "t\n",
      "p\n",
      "w\n",
      "w\n",
      "w\n",
      "h\n",
      "a\n",
      "c\n",
      "k\n",
      "e\n",
      "r\n",
      "r\n",
      "a\n",
      "n\n",
      "k\n",
      "c\n",
      "o\n",
      "m\n"
     ]
    }
   ],
   "source": [
    "import re\n",
    "print(re.finditer(r'\\w','http://www.hackerrank.com/'))\n",
    "\n",
    "print(list(map(lambda x: x.group(),re.finditer(r'\\w','http://www.hackerrank.com/'))))\n",
    "\n",
    "for i in re.finditer(r'\\w','http://www.hackerrank.com/'):\n",
    "    print(i)\n",
    "    \n",
    "for i in re.finditer(r'\\w','http://www.hackerrank.com/'):\n",
    "    print(i.group())"
   ]
  },
  {
   "cell_type": "markdown",
   "metadata": {},
   "source": [
    "Task\n",
    "\n",
    "You are given a string s. It consists of alphanumeric characters, spaces and symbols(+,-).\n",
    "\n",
    "Your task is to find all the substrings of s that contains 2 or more vowels.\n",
    "\n",
    "Also, these substrings must lie in between 2 consonants and should contain vowels only."
   ]
  },
  {
   "cell_type": "code",
   "execution_count": 10,
   "metadata": {},
   "outputs": [
    {
     "name": "stdout",
     "output_type": "stream",
     "text": [
      "rabcdeefgyYhFjkIoomnpOeorteeeeet\n",
      "ee\n",
      "Ioo\n",
      "Oeo\n",
      "eeeee\n"
     ]
    }
   ],
   "source": [
    "import re\n",
    "\n",
    "v = \"aeiou\"\n",
    "c = \"qwrtypsdfghjklzxcvbnm\"\n",
    "m = re.findall(r\"(?<=[%s])([%s]{2,})[%s]\" % (c, v, c), input(), flags = re.I)\n",
    "print('\\n'.join(m or ['-1']))"
   ]
  },
  {
   "cell_type": "code",
   "execution_count": null,
   "metadata": {},
   "outputs": [],
   "source": []
  }
 ],
 "metadata": {
  "kernelspec": {
   "display_name": "Python 3",
   "language": "python",
   "name": "python3"
  },
  "language_info": {
   "codemirror_mode": {
    "name": "ipython",
    "version": 3
   },
   "file_extension": ".py",
   "mimetype": "text/x-python",
   "name": "python",
   "nbconvert_exporter": "python",
   "pygments_lexer": "ipython3",
   "version": "3.7.6"
  }
 },
 "nbformat": 4,
 "nbformat_minor": 4
}
