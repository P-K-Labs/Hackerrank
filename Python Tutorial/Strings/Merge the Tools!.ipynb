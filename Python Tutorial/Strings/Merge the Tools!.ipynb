{
 "cells": [
  {
   "cell_type": "markdown",
   "metadata": {},
   "source": [
    "# Merge the Tools!"
   ]
  },
  {
   "cell_type": "markdown",
   "metadata": {},
   "source": [
    "Consider the following:\n",
    "\n",
    "A string, s, of length n .\n",
    "\n",
    "An integer, k, where k is a factor of n.\n",
    "\n",
    "We can split s into n/k substrings where each subtring, t, consists of a contiguous block of k characters in s. \n",
    "\n",
    "Then, use each t to create string u such that:\n",
    "    \n",
    "- The characters in u are a subsequence of the characters in t.\n",
    "- Any repeat occurrence of a character is removed from the string"
   ]
  },
  {
   "cell_type": "code",
   "execution_count": 21,
   "metadata": {},
   "outputs": [
    {
     "name": "stdout",
     "output_type": "stream",
     "text": [
      "aabcdexxytuv\n",
      "3\n"
     ]
    }
   ],
   "source": [
    "s = input().strip()\n",
    "s = s.upper()\n",
    "\n",
    "n = len(s)\n",
    "k = int(input().strip())\n",
    "\n",
    "if n%k !=0:\n",
    "    k = int(input(\"input again\").strip())"
   ]
  },
  {
   "cell_type": "code",
   "execution_count": 22,
   "metadata": {},
   "outputs": [
    {
     "name": "stdout",
     "output_type": "stream",
     "text": [
      "AB\n",
      "CDE\n",
      "XY\n",
      "TUV\n"
     ]
    }
   ],
   "source": [
    "for i in range(0, n, k):\n",
    "    a = s[i:i+k]\n",
    "    output = \"\"\n",
    "    for x in a:\n",
    "        if x not in output:\n",
    "            output += x\n",
    "    print(output)\n",
    "    "
   ]
  },
  {
   "cell_type": "code",
   "execution_count": 23,
   "metadata": {},
   "outputs": [],
   "source": [
    "# OR\n",
    "\n",
    "def merge_the_tools(string, k):\n",
    "    for part in zip(*[iter(string)] * k):\n",
    "        d = dict()\n",
    "        print(''.join([ d.setdefault(c, c) for c in part if c not in d ]))"
   ]
  },
  {
   "cell_type": "code",
   "execution_count": 24,
   "metadata": {},
   "outputs": [
    {
     "name": "stdout",
     "output_type": "stream",
     "text": [
      "AB\n",
      "CDE\n",
      "XY\n",
      "TUV\n"
     ]
    }
   ],
   "source": [
    "merge_the_tools(s, k)"
   ]
  },
  {
   "cell_type": "code",
   "execution_count": 27,
   "metadata": {},
   "outputs": [
    {
     "name": "stdout",
     "output_type": "stream",
     "text": [
      "('A', 'A', 'B')\n",
      "('C', 'D', 'E')\n",
      "('X', 'X', 'Y')\n",
      "('T', 'U', 'V')\n",
      "['A', 'B']\n",
      "['C', 'D', 'E']\n",
      "['X', 'Y']\n",
      "['T', 'U', 'V']\n"
     ]
    }
   ],
   "source": [
    "# Understanding\n",
    "for part in zip(*[iter(s)]*k):\n",
    "    print(part)\n",
    "\n",
    "\n",
    "for part in zip(*[iter(s)]*k):\n",
    "        d = dict()\n",
    "        print([d.setdefault(c, c) for c in part if c not in d])"
   ]
  },
  {
   "cell_type": "code",
   "execution_count": 16,
   "metadata": {},
   "outputs": [
    {
     "data": {
      "text/plain": [
       "'sejal'"
      ]
     },
     "execution_count": 16,
     "metadata": {},
     "output_type": "execute_result"
    }
   ],
   "source": [
    "d.setdefault(\"harry\", \"sejal\")"
   ]
  },
  {
   "cell_type": "code",
   "execution_count": 25,
   "metadata": {},
   "outputs": [
    {
     "data": {
      "text/plain": [
       "['harry']"
      ]
     },
     "execution_count": 25,
     "metadata": {},
     "output_type": "execute_result"
    }
   ],
   "source": [
    "list(d)"
   ]
  },
  {
   "cell_type": "code",
   "execution_count": null,
   "metadata": {},
   "outputs": [],
   "source": []
  }
 ],
 "metadata": {
  "kernelspec": {
   "display_name": "Python 3",
   "language": "python",
   "name": "python3"
  },
  "language_info": {
   "codemirror_mode": {
    "name": "ipython",
    "version": 3
   },
   "file_extension": ".py",
   "mimetype": "text/x-python",
   "name": "python",
   "nbconvert_exporter": "python",
   "pygments_lexer": "ipython3",
   "version": "3.7.6"
  }
 },
 "nbformat": 4,
 "nbformat_minor": 4
}
