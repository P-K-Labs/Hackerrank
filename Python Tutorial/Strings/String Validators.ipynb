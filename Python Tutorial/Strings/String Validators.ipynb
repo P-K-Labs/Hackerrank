{
 "cells": [
  {
   "cell_type": "markdown",
   "metadata": {},
   "source": [
    "# String Validators\n",
    "\n"
   ]
  },
  {
   "cell_type": "code",
   "execution_count": 4,
   "metadata": {},
   "outputs": [
    {
     "name": "stdout",
     "output_type": "stream",
     "text": [
      "ABCD123\n"
     ]
    }
   ],
   "source": [
    "string = input().strip()"
   ]
  },
  {
   "cell_type": "code",
   "execution_count": 5,
   "metadata": {},
   "outputs": [
    {
     "name": "stdout",
     "output_type": "stream",
     "text": [
      "True\n",
      "False\n",
      "False\n",
      "False\n",
      "True\n"
     ]
    }
   ],
   "source": [
    "# Check if all chars are alphanumeric a-z, A-Z, 0-9\n",
    "print(string.isalnum())\n",
    "\n",
    "# Check if all chars are alphabetical a-z, A-Z\n",
    "print(string.isalpha())\n",
    "\n",
    "# Check if all chars are digits 0-9\n",
    "print(string.isdigit())\n",
    "\n",
    "# Check if all chars are lowercase\n",
    "print(string.islower())\n",
    "\n",
    "# Check if all chars are uppercase\n",
    "print(string.isupper())\n",
    "\n"
   ]
  },
  {
   "cell_type": "code",
   "execution_count": null,
   "metadata": {},
   "outputs": [],
   "source": []
  }
 ],
 "metadata": {
  "kernelspec": {
   "display_name": "Python 3",
   "language": "python",
   "name": "python3"
  },
  "language_info": {
   "codemirror_mode": {
    "name": "ipython",
    "version": 3
   },
   "file_extension": ".py",
   "mimetype": "text/x-python",
   "name": "python",
   "nbconvert_exporter": "python",
   "pygments_lexer": "ipython3",
   "version": "3.7.6"
  }
 },
 "nbformat": 4,
 "nbformat_minor": 4
}
