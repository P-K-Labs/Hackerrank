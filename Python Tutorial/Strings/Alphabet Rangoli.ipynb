{
 "cells": [
  {
   "cell_type": "markdown",
   "metadata": {},
   "source": [
    "# Alphabet Rangoli"
   ]
  },
  {
   "cell_type": "markdown",
   "metadata": {},
   "source": [
    "You are given an integer, n. Your task is to print an alphabet rangoli of size n. (Rangoli is a form of Indian folk art based on creation of patterns.)\n",
    "\n",
    "Different sizes of alphabet rangoli are shown below:"
   ]
  },
  {
   "cell_type": "raw",
   "metadata": {},
   "source": [
    "#size 3\n",
    "\n",
    "----c----\n",
    "--c-b-c--\n",
    "c-b-a-b-c\n",
    "--c-b-c--\n",
    "----c----\n",
    "\n",
    "#size 5\n",
    "\n",
    "--------e--------\n",
    "------e-d-e------\n",
    "----e-d-c-d-e----\n",
    "--e-d-c-b-c-d-e--\n",
    "e-d-c-b-a-b-c-d-e\n",
    "--e-d-c-b-c-d-e--\n",
    "----e-d-c-d-e----\n",
    "------e-d-e------\n",
    "--------e--------"
   ]
  },
  {
   "cell_type": "code",
   "execution_count": 3,
   "metadata": {},
   "outputs": [
    {
     "data": {
      "text/plain": [
       "'abcdefghijklmnopqrstuvwxyz'"
      ]
     },
     "execution_count": 3,
     "metadata": {},
     "output_type": "execute_result"
    }
   ],
   "source": [
    "import string\n",
    "alpha = string.ascii_lowercase\n",
    "alpha"
   ]
  },
  {
   "cell_type": "code",
   "execution_count": 4,
   "metadata": {},
   "outputs": [
    {
     "name": "stdout",
     "output_type": "stream",
     "text": [
      "5\n"
     ]
    }
   ],
   "source": [
    "n = int(input())"
   ]
  },
  {
   "cell_type": "code",
   "execution_count": 6,
   "metadata": {},
   "outputs": [
    {
     "data": {
      "text/plain": [
       "['e-d-c-b-a-b-c-d-e',\n",
       " '--e-d-c-b-c-d-e--',\n",
       " '----e-d-c-d-e----',\n",
       " '------e-d-e------',\n",
       " '--------e--------']"
      ]
     },
     "execution_count": 6,
     "metadata": {},
     "output_type": "execute_result"
    }
   ],
   "source": [
    "L = []\n",
    "for i in range(n):\n",
    "    s = \"-\".join(alpha[i:n])\n",
    "    L.append((s[::-1] + s[1:]).center(4*n-3, \"-\"))\n",
    "L"
   ]
  },
  {
   "cell_type": "code",
   "execution_count": 8,
   "metadata": {},
   "outputs": [
    {
     "name": "stdout",
     "output_type": "stream",
     "text": [
      "--------e--------\n",
      "------e-d-e------\n",
      "----e-d-c-d-e----\n",
      "--e-d-c-b-c-d-e--\n",
      "e-d-c-b-a-b-c-d-e\n",
      "--e-d-c-b-c-d-e--\n",
      "----e-d-c-d-e----\n",
      "------e-d-e------\n",
      "--------e--------\n"
     ]
    }
   ],
   "source": [
    "print(\"\\n\".join(L[:0:-1] + L))"
   ]
  },
  {
   "cell_type": "code",
   "execution_count": 7,
   "metadata": {},
   "outputs": [
    {
     "data": {
      "text/plain": [
       "['--------e--------',\n",
       " '------e-d-e------',\n",
       " '----e-d-c-d-e----',\n",
       " '--e-d-c-b-c-d-e--']"
      ]
     },
     "execution_count": 7,
     "metadata": {},
     "output_type": "execute_result"
    }
   ],
   "source": [
    "L[:0:-1]"
   ]
  },
  {
   "cell_type": "code",
   "execution_count": null,
   "metadata": {},
   "outputs": [],
   "source": []
  }
 ],
 "metadata": {
  "kernelspec": {
   "display_name": "Python 3",
   "language": "python",
   "name": "python3"
  },
  "language_info": {
   "codemirror_mode": {
    "name": "ipython",
    "version": 3
   },
   "file_extension": ".py",
   "mimetype": "text/x-python",
   "name": "python",
   "nbconvert_exporter": "python",
   "pygments_lexer": "ipython3",
   "version": "3.7.6"
  }
 },
 "nbformat": 4,
 "nbformat_minor": 4
}
