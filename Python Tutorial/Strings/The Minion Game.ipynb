{
 "cells": [
  {
   "cell_type": "markdown",
   "metadata": {},
   "source": [
    "# The Minion Game"
   ]
  },
  {
   "cell_type": "markdown",
   "metadata": {},
   "source": [
    "Kevin and Stuart want to play the 'The Minion Game'.\n",
    "\n",
    "Game Rules\n",
    "\n",
    "Both players are given the same string,S .\n",
    "\n",
    "Both players have to make substrings using the letters of the string S.\n",
    "\n",
    "Stuart has to make words starting with consonants.\n",
    "\n",
    "Kevin has to make words starting with vowels.\n",
    "\n",
    "The game ends when both players have made all possible substrings.\n"
   ]
  },
  {
   "cell_type": "code",
   "execution_count": 1,
   "metadata": {},
   "outputs": [
    {
     "name": "stdout",
     "output_type": "stream",
     "text": [
      "banana\n"
     ]
    }
   ],
   "source": [
    "s = input().strip()"
   ]
  },
  {
   "cell_type": "code",
   "execution_count": 3,
   "metadata": {},
   "outputs": [
    {
     "name": "stdout",
     "output_type": "stream",
     "text": [
      "Stuart 12\n"
     ]
    }
   ],
   "source": [
    "s = s.upper()\n",
    "\n",
    "vowels = \"AEIOU\"\n",
    "\n",
    "kevin_score = 0\n",
    "stuart_score = 0\n",
    "for i in range(len(s)):\n",
    "    if s[i] in vowels:\n",
    "        kevin_score += len(s) - i\n",
    "    else:\n",
    "        stuart_score += len(s) - i\n",
    "\n",
    "if kevin_score > stuart_score:\n",
    "    print(\"Kevin\", kevin_score, sep = \" \")\n",
    "elif kevin_score < stuart_score:\n",
    "    print(\"Stuart\", stuart_score, sep = \" \")\n",
    "else:\n",
    "    print(\"Draw\")"
   ]
  },
  {
   "cell_type": "code",
   "execution_count": null,
   "metadata": {},
   "outputs": [],
   "source": []
  }
 ],
 "metadata": {
  "kernelspec": {
   "display_name": "Python 3",
   "language": "python",
   "name": "python3"
  },
  "language_info": {
   "codemirror_mode": {
    "name": "ipython",
    "version": 3
   },
   "file_extension": ".py",
   "mimetype": "text/x-python",
   "name": "python",
   "nbconvert_exporter": "python",
   "pygments_lexer": "ipython3",
   "version": "3.7.6"
  }
 },
 "nbformat": 4,
 "nbformat_minor": 4
}
