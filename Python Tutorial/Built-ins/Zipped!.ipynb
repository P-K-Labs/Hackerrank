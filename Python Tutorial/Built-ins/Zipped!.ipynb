{
 "cells": [
  {
   "cell_type": "markdown",
   "metadata": {},
   "source": [
    "# Zipped!\n",
    "\n"
   ]
  },
  {
   "cell_type": "markdown",
   "metadata": {},
   "source": [
    "zip([iterable, ...])\n",
    "\n",
    "This function returns a list of tuples. The ith tuple contains the ith element from each of the argument sequences or iterables.\n",
    "\n",
    "If the argument sequences are of unequal lengths, then the returned list is truncated to the length of the shortest argument sequence."
   ]
  },
  {
   "cell_type": "code",
   "execution_count": 5,
   "metadata": {},
   "outputs": [
    {
     "name": "stdout",
     "output_type": "stream",
     "text": [
      "(1, 'H') (2, 'a') (3, 'c') (4, 'k') (5, 'e') (6, 'r')\n",
      "(1, 0) (2, 9) (3, 8) (4, 7) (5, 6) (6, 5)\n",
      "(1, 6, 7) (2, 5, 8) (3, 4, 9)\n"
     ]
    }
   ],
   "source": [
    "print(*zip([1,2,3,4,5,6],'Hacker'))\n",
    "\n",
    "print(*zip([1,2,3,4,5,6],[0,9,8,7,6,5,4,3,2,1]))\n",
    "\n",
    "A = [1,2,3]\n",
    "B = [6,5,4]\n",
    "C = [7,8,9]\n",
    "X = [A] + [B] + [C]\n",
    "print(*zip(*X))"
   ]
  },
  {
   "cell_type": "markdown",
   "metadata": {},
   "source": [
    "Task\n",
    "\n",
    "The National University conducts an examination of N students in X subjects.\n",
    "\n",
    "Your task is to compute the average scores of each student."
   ]
  },
  {
   "cell_type": "code",
   "execution_count": 8,
   "metadata": {},
   "outputs": [
    {
     "name": "stdout",
     "output_type": "stream",
     "text": [
      "5 3\n",
      "89 90 78 93 80\n",
      "90 91 85 88 86\n",
      "91 92 83 89 90.5\n"
     ]
    }
   ],
   "source": [
    "N, X = map(int, input().split())\n",
    "\n",
    "A = list()\n",
    "for _ in range(X):\n",
    "    L = list(map(float, input().split()))[:N]\n",
    "    A.append(L)\n",
    "\n",
    "print(*[sum(i)/len(i) for i in zip(*A)], sep = \"\\n\")"
   ]
  },
  {
   "cell_type": "code",
   "execution_count": 18,
   "metadata": {},
   "outputs": [
    {
     "name": "stdout",
     "output_type": "stream",
     "text": [
      "90.0\n",
      "91.0\n",
      "82.0\n",
      "90.0\n",
      "85.5\n"
     ]
    }
   ],
   "source": [
    "# OR\n",
    "\n",
    "from statistics import mean\n",
    "\n",
    "print(*[mean(i) for i in zip(*A)], sep = \"\\n\")"
   ]
  },
  {
   "cell_type": "code",
   "execution_count": null,
   "metadata": {},
   "outputs": [],
   "source": []
  }
 ],
 "metadata": {
  "kernelspec": {
   "display_name": "Python 3",
   "language": "python",
   "name": "python3"
  },
  "language_info": {
   "codemirror_mode": {
    "name": "ipython",
    "version": 3
   },
   "file_extension": ".py",
   "mimetype": "text/x-python",
   "name": "python",
   "nbconvert_exporter": "python",
   "pygments_lexer": "ipython3",
   "version": "3.7.6"
  }
 },
 "nbformat": 4,
 "nbformat_minor": 4
}
