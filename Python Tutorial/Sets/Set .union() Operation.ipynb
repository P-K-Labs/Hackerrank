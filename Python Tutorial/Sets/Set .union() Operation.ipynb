{
 "cells": [
  {
   "cell_type": "markdown",
   "metadata": {},
   "source": [
    "# Set .union() Operation\n",
    "\n"
   ]
  },
  {
   "cell_type": "markdown",
   "metadata": {},
   "source": [
    ".union()\n",
    "\n",
    "The .union() operator returns the union of a set and the set of elements in an iterable.\n",
    "\n",
    "Sometimes, the | operator is used in place of .union() operator, but it operates only on the set of elements in set.\n",
    "\n",
    "Set is immutable to the .union() operation (or | operation)."
   ]
  },
  {
   "cell_type": "markdown",
   "metadata": {},
   "source": [
    "Task\n",
    "\n",
    "The students of District College have subscriptions to English and French newspapers. Some students have subscribed only to English, some have subscribed to only French and some have subscribed to both newspapers.\n",
    "\n",
    "You are given two sets of student roll numbers. One set has subscribed to the English newspaper, and the other set is subscribed to the French newspaper. The same student could be in both sets. Your task is to find the total number of students who have subscribed to at least one newspaper."
   ]
  },
  {
   "cell_type": "markdown",
   "metadata": {},
   "source": [
    "The first line contains an integer, n, the number of students who have subscribed to the English newspaper.\n",
    "\n",
    "The second line contains n space separated roll numbers of those students.\n",
    "\n",
    "The third line contains b, the number of students who have subscribed to the French newspaper.\n",
    "\n",
    "The fourth line contains b space separated roll numbers of those students."
   ]
  },
  {
   "cell_type": "code",
   "execution_count": 2,
   "metadata": {},
   "outputs": [
    {
     "name": "stdout",
     "output_type": "stream",
     "text": [
      "3\n",
      "1 2 3 4\n",
      "3\n",
      "1 3 4 5\n"
     ]
    }
   ],
   "source": [
    "n = int(input())\n",
    "A = set(list(map(int, input().split()))[:n])\n",
    "\n",
    "b = int(input())\n",
    "B = set(list(map(int, input().split()))[:b])"
   ]
  },
  {
   "cell_type": "code",
   "execution_count": 6,
   "metadata": {},
   "outputs": [
    {
     "name": "stdout",
     "output_type": "stream",
     "text": [
      "4\n"
     ]
    }
   ],
   "source": [
    "print(len(A.union(B)))\n"
   ]
  },
  {
   "cell_type": "code",
   "execution_count": 7,
   "metadata": {},
   "outputs": [
    {
     "name": "stdout",
     "output_type": "stream",
     "text": [
      "3\n",
      "1 2 3\n",
      "4\n",
      "1 2 3 4\n",
      "4\n"
     ]
    }
   ],
   "source": [
    "# OR\n",
    "\n",
    "print(len((set(input().split()) if input() != '-1' else '')|(set(input().split()) if input() != '-1' else '')))"
   ]
  },
  {
   "cell_type": "code",
   "execution_count": null,
   "metadata": {},
   "outputs": [],
   "source": []
  }
 ],
 "metadata": {
  "kernelspec": {
   "display_name": "Python 3",
   "language": "python",
   "name": "python3"
  },
  "language_info": {
   "codemirror_mode": {
    "name": "ipython",
    "version": 3
   },
   "file_extension": ".py",
   "mimetype": "text/x-python",
   "name": "python",
   "nbconvert_exporter": "python",
   "pygments_lexer": "ipython3",
   "version": "3.7.6"
  }
 },
 "nbformat": 4,
 "nbformat_minor": 4
}
