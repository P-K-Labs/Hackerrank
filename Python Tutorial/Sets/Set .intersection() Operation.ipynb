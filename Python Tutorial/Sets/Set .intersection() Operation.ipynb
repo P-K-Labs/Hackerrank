{
 "cells": [
  {
   "cell_type": "markdown",
   "metadata": {},
   "source": [
    "# Set .intersection() Operation"
   ]
  },
  {
   "cell_type": "markdown",
   "metadata": {},
   "source": [
    ".intersection()\n",
    "\n",
    "The .intersection() operator returns the intersection of a set and the set of elements in an iterable.\n",
    "\n",
    "Sometimes, the & operator is used in place of the .intersection() operator, but it only operates on the set of elements in set.\n",
    "\n",
    "The set is immutable to the .intersection() operation (or & operation)."
   ]
  },
  {
   "cell_type": "markdown",
   "metadata": {},
   "source": [
    "Task\n",
    "\n",
    "The students of District College have subscriptions to English and French newspapers. Some students have subscribed only to English, some have subscribed only to French, and some have subscribed to both newspapers.\n",
    "\n",
    "You are given two sets of student roll numbers. One set has subscribed to the English newspaper, one set has subscribed to the French newspaper. Your task is to find the total number of students who have subscribed to both newspapers."
   ]
  },
  {
   "cell_type": "code",
   "execution_count": 2,
   "metadata": {},
   "outputs": [
    {
     "name": "stdout",
     "output_type": "stream",
     "text": [
      "3\n",
      "1 2 3\n",
      "5\n",
      "1 4 5 6 6 2\n",
      "1\n"
     ]
    }
   ],
   "source": [
    "n = int(input())\n",
    "A = set(list(map(int, input().split()))[:n])\n",
    "\n",
    "b = int(input())\n",
    "B = set(list(map(int, input().split()))[:b])\n",
    "\n",
    "print(len(A.intersection(B)))"
   ]
  },
  {
   "cell_type": "code",
   "execution_count": 5,
   "metadata": {},
   "outputs": [
    {
     "name": "stdout",
     "output_type": "stream",
     "text": [
      "3\n",
      "1 2 3\n",
      "3\n",
      "2 3 4\n",
      "2\n"
     ]
    }
   ],
   "source": [
    "# OR\n",
    "\n",
    "print(len((set(input().split()) if input() != \"-1\" else \"\") & (set(input().split() if input() != \"-1\" else \"\"))))"
   ]
  },
  {
   "cell_type": "code",
   "execution_count": null,
   "metadata": {},
   "outputs": [],
   "source": []
  }
 ],
 "metadata": {
  "kernelspec": {
   "display_name": "Python 3",
   "language": "python",
   "name": "python3"
  },
  "language_info": {
   "codemirror_mode": {
    "name": "ipython",
    "version": 3
   },
   "file_extension": ".py",
   "mimetype": "text/x-python",
   "name": "python",
   "nbconvert_exporter": "python",
   "pygments_lexer": "ipython3",
   "version": "3.7.6"
  }
 },
 "nbformat": 4,
 "nbformat_minor": 4
}
