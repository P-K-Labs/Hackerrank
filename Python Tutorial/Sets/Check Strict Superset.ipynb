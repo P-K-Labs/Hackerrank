{
 "cells": [
  {
   "cell_type": "markdown",
   "metadata": {},
   "source": [
    "# Check Strict Superset"
   ]
  },
  {
   "cell_type": "markdown",
   "metadata": {},
   "source": [
    "You are given a set A and N other sets.\n",
    "\n",
    "Your job is to find whether set A is a strict superset of each of the N sets.\n",
    "\n",
    "Print True, if A is a strict superset of each of the N sets. Otherwise, print False.\n",
    "\n",
    "A strict superset has at least one element that does not exist in its subset."
   ]
  },
  {
   "cell_type": "code",
   "execution_count": 4,
   "metadata": {},
   "outputs": [
    {
     "name": "stdout",
     "output_type": "stream",
     "text": [
      "1 2 3 4 5\n",
      "2\n",
      "1 2\n",
      "1 2 10\n",
      "False\n"
     ]
    }
   ],
   "source": [
    "A = set(map(int, input().split()))\n",
    "\n",
    "Result = True\n",
    "\n",
    "for _ in range(int(input())):\n",
    "    B = set(map(int, input().split()))\n",
    "    Result = Result and A.issuperset(B)\n",
    "\n",
    "print(Result)"
   ]
  },
  {
   "cell_type": "code",
   "execution_count": 5,
   "metadata": {},
   "outputs": [
    {
     "name": "stdout",
     "output_type": "stream",
     "text": [
      "1 2 3 4 5\n",
      "2\n",
      "1 2\n",
      "1 2 10\n",
      "False\n"
     ]
    }
   ],
   "source": [
    "# OR solution by @aportnoy1\n",
    "\n",
    "a = set(input().split())\n",
    "print(all(a > set(input().split()) for _ in range(int(input()))))"
   ]
  },
  {
   "cell_type": "code",
   "execution_count": null,
   "metadata": {},
   "outputs": [],
   "source": []
  }
 ],
 "metadata": {
  "kernelspec": {
   "display_name": "Python 3",
   "language": "python",
   "name": "python3"
  },
  "language_info": {
   "codemirror_mode": {
    "name": "ipython",
    "version": 3
   },
   "file_extension": ".py",
   "mimetype": "text/x-python",
   "name": "python",
   "nbconvert_exporter": "python",
   "pygments_lexer": "ipython3",
   "version": "3.7.6"
  }
 },
 "nbformat": 4,
 "nbformat_minor": 4
}
