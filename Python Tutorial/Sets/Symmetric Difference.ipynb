{
 "cells": [
  {
   "cell_type": "markdown",
   "metadata": {},
   "source": [
    "# Symmetric Difference\n",
    "\n"
   ]
  },
  {
   "cell_type": "markdown",
   "metadata": {},
   "source": [
    "Objective\n",
    "\n",
    "Today, we're learning about a new data type: sets.\n",
    "\n",
    "Concept\n",
    "\n",
    "If the inputs are given on one line separated by a character (the delimiter), use split() to get the separate values in the form of a list. The delimiter is space (ascii 32) by default. To specify that comma is the delimiter, use string.split(','). For this challenge, and in general on HackerRank, space will be the delimiter."
   ]
  },
  {
   "cell_type": "code",
   "execution_count": 1,
   "metadata": {},
   "outputs": [
    {
     "name": "stdout",
     "output_type": "stream",
     "text": [
      "3 4 5\n",
      "['3', '4', '5']\n"
     ]
    }
   ],
   "source": [
    "a = input()\n",
    "\n",
    "lis = a.split()\n",
    "print(lis)"
   ]
  },
  {
   "cell_type": "code",
   "execution_count": 2,
   "metadata": {},
   "outputs": [
    {
     "name": "stdout",
     "output_type": "stream",
     "text": [
      "[3, 4, 5]\n"
     ]
    }
   ],
   "source": [
    "# If the list values are all integer types, use the map() method to convert all the strings to integers.\n",
    "\n",
    "newlist = list(map(int, lis))\n",
    "print(newlist)"
   ]
  },
  {
   "cell_type": "code",
   "execution_count": 3,
   "metadata": {},
   "outputs": [
    {
     "data": {
      "text/plain": [
       "{'a', 'b'}"
      ]
     },
     "execution_count": 3,
     "metadata": {},
     "output_type": "execute_result"
    }
   ],
   "source": [
    "# creating sets\n",
    "\n",
    "myset = {1, 2} # Directly assigning values to a set\n",
    "myset = set()  # Initializing a set\n",
    "myset = set(['a', 'b']) # Creating a set from a list\n",
    "myset\n",
    "{'a', 'b'}"
   ]
  },
  {
   "cell_type": "code",
   "execution_count": 4,
   "metadata": {},
   "outputs": [
    {
     "data": {
      "text/plain": [
       "{'a', 'b', 'c'}"
      ]
     },
     "metadata": {},
     "output_type": "display_data"
    },
    {
     "data": {
      "text/plain": [
       "{(5, 4), 'a', 'b', 'c'}"
      ]
     },
     "execution_count": 4,
     "metadata": {},
     "output_type": "execute_result"
    }
   ],
   "source": [
    "# modify sets\n",
    "\n",
    "myset.add('c')\n",
    "display(myset)\n",
    "\n",
    "myset.add('a') # As 'a' already exists in the set, nothing happens\n",
    "myset.add((5, 4))\n",
    "myset\n",
    "{'a', 'c', 'b', (5, 4)}"
   ]
  },
  {
   "cell_type": "code",
   "execution_count": 5,
   "metadata": {},
   "outputs": [
    {
     "data": {
      "text/plain": [
       "{(5, 4), 1, 2, 3, 4, 'a', 'b', 'c'}"
      ]
     },
     "metadata": {},
     "output_type": "display_data"
    },
    {
     "data": {
      "text/plain": [
       "{(5, 4), 1, 2, 3, 4, 7, 8, 'a', 'b', 'c'}"
      ]
     },
     "metadata": {},
     "output_type": "display_data"
    },
    {
     "data": {
      "text/plain": [
       "{(5, 4), 1, 13, 2, 3, 4, 5, 6, 7, 8, 'a', 'b', 'c'}"
      ]
     },
     "execution_count": 5,
     "metadata": {},
     "output_type": "execute_result"
    }
   ],
   "source": [
    "# update function\n",
    "\n",
    "myset.update([1, 2, 3, 4]) # update() only works for iterable objects\n",
    "display(myset)\n",
    "\n",
    "myset.update({1, 7, 8})\n",
    "display(myset)\n",
    "\n",
    "myset.update({1, 6}, [5, 13])\n",
    "myset\n"
   ]
  },
  {
   "cell_type": "code",
   "execution_count": 6,
   "metadata": {},
   "outputs": [
    {
     "data": {
      "text/plain": [
       "{(5, 4), 1, 13, 2, 3, 4, 5, 6, 7, 8, 'a', 'b', 'c'}"
      ]
     },
     "metadata": {},
     "output_type": "display_data"
    },
    {
     "data": {
      "text/plain": [
       "{(5, 4), 1, 2, 3, 4, 5, 6, 7, 8, 'a', 'b', 'c'}"
      ]
     },
     "execution_count": 6,
     "metadata": {},
     "output_type": "execute_result"
    }
   ],
   "source": [
    "# remove items\n",
    "\n",
    "myset.discard(10)\n",
    "display(myset)\n",
    "myset.remove(13)\n",
    "myset"
   ]
  },
  {
   "cell_type": "code",
   "execution_count": 7,
   "metadata": {},
   "outputs": [
    {
     "data": {
      "text/plain": [
       "{2, 4, 5, 9, 11, 12}"
      ]
     },
     "metadata": {},
     "output_type": "display_data"
    },
    {
     "data": {
      "text/plain": [
       "{2, 4}"
      ]
     },
     "metadata": {},
     "output_type": "display_data"
    },
    {
     "data": {
      "text/plain": [
       "{5, 9}"
      ]
     },
     "metadata": {},
     "output_type": "display_data"
    }
   ],
   "source": [
    "# common set operations\n",
    "\n",
    "a = {2, 4, 5, 9}\n",
    "b = {2, 4, 11, 12}\n",
    "display(a.union(b)) # Values which exist in a or b\n",
    "\n",
    "display(a.intersection(b)) # Values which exist in a and b\n",
    "\n",
    "display(a.difference(b)) # Values which exist in a but not in b\n"
   ]
  },
  {
   "cell_type": "markdown",
   "metadata": {},
   "source": [
    "Given  sets of integers, m and n, print their symmetric difference in ascending order. "
   ]
  },
  {
   "cell_type": "code",
   "execution_count": 14,
   "metadata": {},
   "outputs": [
    {
     "name": "stdout",
     "output_type": "stream",
     "text": [
      "3\n",
      "1 2 3\n",
      "3\n",
      "3 2 4\n"
     ]
    }
   ],
   "source": [
    "m = int(input())\n",
    "M = set(map(int, input().split()))\n",
    "n = int(input())\n",
    "N = set(map(int, input().split()))\n",
    "\n"
   ]
  },
  {
   "cell_type": "code",
   "execution_count": 19,
   "metadata": {},
   "outputs": [
    {
     "name": "stdout",
     "output_type": "stream",
     "text": [
      "1\n",
      "4\n"
     ]
    }
   ],
   "source": [
    "print(*sorted((M.union(N)).difference(M.intersection(N))), sep = \"\\n\")"
   ]
  },
  {
   "cell_type": "code",
   "execution_count": 20,
   "metadata": {},
   "outputs": [
    {
     "name": "stdout",
     "output_type": "stream",
     "text": [
      "3\n",
      "1 2 3\n",
      "3\n",
      "3 4 5\n",
      "1\n",
      "2\n",
      "4\n",
      "5\n"
     ]
    }
   ],
   "source": [
    "# OR\n",
    "\n",
    "n=int(input())\n",
    "arr1= set(list(map(int, input().split()))[:n])\n",
    "m= int(input())\n",
    "arr2= set(list(map(int, input().split()))[:m])\n",
    "print(*sorted(arr1^arr2), sep='\\n')"
   ]
  },
  {
   "cell_type": "code",
   "execution_count": null,
   "metadata": {},
   "outputs": [],
   "source": []
  }
 ],
 "metadata": {
  "kernelspec": {
   "display_name": "Python 3",
   "language": "python",
   "name": "python3"
  },
  "language_info": {
   "codemirror_mode": {
    "name": "ipython",
    "version": 3
   },
   "file_extension": ".py",
   "mimetype": "text/x-python",
   "name": "python",
   "nbconvert_exporter": "python",
   "pygments_lexer": "ipython3",
   "version": "3.7.6"
  }
 },
 "nbformat": 4,
 "nbformat_minor": 4
}
