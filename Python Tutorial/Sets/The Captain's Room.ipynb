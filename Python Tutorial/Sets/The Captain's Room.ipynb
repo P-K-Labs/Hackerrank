{
 "cells": [
  {
   "cell_type": "markdown",
   "metadata": {},
   "source": [
    "# The Captain's Room"
   ]
  },
  {
   "cell_type": "markdown",
   "metadata": {},
   "source": [
    "Mr. Anant Asankhya is the manager at the INFINITE hotel. The hotel has an infinite amount of rooms.\n",
    "\n",
    "One fine day, a finite number of tourists come to stay at the hotel.\n",
    "\n",
    "The tourists consist of:  \n",
    "- A Captain.\n",
    "- An unknown group of families consisting of K members per group where K ≠ 1.\n",
    "\n",
    "The Captain was given a separate room, and the rest were given one room per group.\n",
    "\n",
    "Mr. Anant has an unordered list of randomly arranged room entries. The list consists of the room numbers for all of the tourists. The room numbers will appear k times per group except for the Captain's room.\n",
    "\n",
    "Mr. Anant needs you to help him find the Captain's room number.\n",
    "\n",
    "The total number of tourists or the total number of groups of families is not known to you.\n",
    "\n",
    "You only know the value of k and the room number list."
   ]
  },
  {
   "cell_type": "code",
   "execution_count": 11,
   "metadata": {},
   "outputs": [
    {
     "name": "stdout",
     "output_type": "stream",
     "text": [
      "3\n",
      "1 1 1 2 2 2 3 3 3 4\n",
      "4.0\n"
     ]
    }
   ],
   "source": [
    "k, arr = int(input()), list(map(int, input().split()))\n",
    "\n",
    "distinct_set = set(arr)\n",
    "\n",
    "print((sum(distinct_set)*k - sum(arr))/(k-1))"
   ]
  },
  {
   "cell_type": "code",
   "execution_count": 10,
   "metadata": {},
   "outputs": [
    {
     "name": "stdout",
     "output_type": "stream",
     "text": [
      "3\n",
      "1 1 1 2 2 2 3 3 3 4\n",
      "4\n"
     ]
    }
   ],
   "source": [
    "# OR\n",
    "k, arr = int(input()), list(map(int, input().split()))\n",
    "\n",
    "distinct_set = set(arr)\n",
    "\n",
    "print((sum(distinct_set)*k - sum(arr))//(k-1)) #used // here"
   ]
  },
  {
   "cell_type": "code",
   "execution_count": null,
   "metadata": {},
   "outputs": [],
   "source": []
  }
 ],
 "metadata": {
  "kernelspec": {
   "display_name": "Python 3",
   "language": "python",
   "name": "python3"
  },
  "language_info": {
   "codemirror_mode": {
    "name": "ipython",
    "version": 3
   },
   "file_extension": ".py",
   "mimetype": "text/x-python",
   "name": "python",
   "nbconvert_exporter": "python",
   "pygments_lexer": "ipython3",
   "version": "3.7.6"
  }
 },
 "nbformat": 4,
 "nbformat_minor": 4
}
