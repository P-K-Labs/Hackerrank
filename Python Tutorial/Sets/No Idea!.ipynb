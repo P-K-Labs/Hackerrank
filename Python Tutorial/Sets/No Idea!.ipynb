{
 "cells": [
  {
   "cell_type": "markdown",
   "metadata": {},
   "source": [
    "# No idea!"
   ]
  },
  {
   "cell_type": "markdown",
   "metadata": {},
   "source": [
    "There is an array of n integers. There are also 2 disjoint sets, A and B, each containing m integers.\n",
    "\n",
    "You like all the integers in set A and dislike all the integers in set B. \n",
    "\n",
    "Your initial happiness is 0.\n",
    "\n",
    "For each i integer in the array, if i belongs in A, you add 1 to your happiness. If i belongs in B, you add -1 to your happiness. Otherwise, your happiness does not change. Output your final happiness at the end.\n",
    "\n",
    "Since A and B are sets, they have no repeated elements. However, the array might contain duplicate elements."
   ]
  },
  {
   "cell_type": "code",
   "execution_count": 6,
   "metadata": {},
   "outputs": [
    {
     "name": "stdout",
     "output_type": "stream",
     "text": [
      "3 4\n",
      "1 2 3\n",
      "2 5 7\n",
      "1 3 4 5\n"
     ]
    }
   ],
   "source": [
    "n, m = map(int, input().split(\" \"))\n",
    "array = [int(x) for x in input().split()]\n",
    "A = set([int(x) for x in input().split()])\n",
    "B = set([int(x) for x in input().split()])"
   ]
  },
  {
   "cell_type": "code",
   "execution_count": 7,
   "metadata": {},
   "outputs": [
    {
     "name": "stdout",
     "output_type": "stream",
     "text": [
      "-1\n"
     ]
    }
   ],
   "source": [
    "print(sum([(i in A) - (i in B) for i in array]))"
   ]
  },
  {
   "cell_type": "code",
   "execution_count": null,
   "metadata": {},
   "outputs": [],
   "source": []
  }
 ],
 "metadata": {
  "kernelspec": {
   "display_name": "Python 3",
   "language": "python",
   "name": "python3"
  },
  "language_info": {
   "codemirror_mode": {
    "name": "ipython",
    "version": 3
   },
   "file_extension": ".py",
   "mimetype": "text/x-python",
   "name": "python",
   "nbconvert_exporter": "python",
   "pygments_lexer": "ipython3",
   "version": "3.7.6"
  }
 },
 "nbformat": 4,
 "nbformat_minor": 4
}
