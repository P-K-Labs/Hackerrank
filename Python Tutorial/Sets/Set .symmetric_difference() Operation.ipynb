{
 "cells": [
  {
   "cell_type": "markdown",
   "metadata": {},
   "source": [
    "# Set .symmetric_difference() Operation\n",
    "\n"
   ]
  },
  {
   "cell_type": "markdown",
   "metadata": {},
   "source": [
    ".symmetric_difference()\n",
    "\n",
    "The .symmetric_difference() operator returns a set with all the elements that are in the set and the iterable but not both.\n",
    "\n",
    "Sometimes, a ^ operator is used in place of the .symmetric_difference() tool, but it only operates on the set of elements in set.\n",
    "\n",
    "The set is immutable to the .symmetric_difference() operation (or ^ operation)."
   ]
  },
  {
   "cell_type": "code",
   "execution_count": 1,
   "metadata": {},
   "outputs": [
    {
     "name": "stdout",
     "output_type": "stream",
     "text": [
      "{'c', 'n', 'R', 'H', 'r', 'e'}\n",
      "{'c', 'n', 'R', 'H', 'r', 'e'}\n",
      "{'c', 'n', 'R', 'H', 'r', 'e'}\n",
      "{'a', (2, 'n'), 'c', (0, 'R'), 'k', 'H', (3, 'k'), 'r', 'e', (1, 'a')}\n",
      "{'a', 'c', 'Rank', 'H', 'r', 'e', 'k'}\n"
     ]
    },
    {
     "data": {
      "text/plain": [
       "{'H', 'R', 'c', 'e', 'n', 'r'}"
      ]
     },
     "execution_count": 1,
     "metadata": {},
     "output_type": "execute_result"
    }
   ],
   "source": [
    "s = set(\"Hacker\")\n",
    "print(s.symmetric_difference(\"Rank\"))\n",
    "\n",
    "\n",
    "print(s.symmetric_difference(set(['R', 'a', 'n', 'k'])))\n",
    "\n",
    "\n",
    "print(s.symmetric_difference(['R', 'a', 'n', 'k']))\n",
    "\n",
    "\n",
    "print(s.symmetric_difference(enumerate(['R', 'a', 'n', 'k'])))\n",
    "\n",
    "\n",
    "print(s.symmetric_difference({\"Rank\":1}))\n",
    "\n",
    "s ^ set(\"Rank\")\n"
   ]
  },
  {
   "cell_type": "markdown",
   "metadata": {},
   "source": [
    "Task\n",
    "\n",
    "Students of District College have subscriptions to English and French newspapers. Some students have subscribed to English only, some have subscribed to French only, and some have subscribed to both newspapers.\n",
    "\n",
    "You are given two sets of student roll numbers. One set has subscribed to the English newspaper, and one set has subscribed to the French newspaper. Your task is to find the total number of students who have subscribed to either the English or the French newspaper but not both."
   ]
  },
  {
   "cell_type": "code",
   "execution_count": 2,
   "metadata": {},
   "outputs": [
    {
     "name": "stdout",
     "output_type": "stream",
     "text": [
      "3\n",
      "1 2 3\n",
      "3\n",
      "2 3 4\n",
      "2\n"
     ]
    }
   ],
   "source": [
    "n = int(input())\n",
    "A = set(list(map(int, input().split()))[:n])\n",
    "\n",
    "b = int(input())\n",
    "B = set(list(map(int, input().split()))[:b])\n",
    "\n",
    "print(len(A.symmetric_difference(B)))"
   ]
  },
  {
   "cell_type": "code",
   "execution_count": 3,
   "metadata": {},
   "outputs": [
    {
     "name": "stdout",
     "output_type": "stream",
     "text": [
      "3\n",
      "1 2 3\n",
      "3\n",
      "2 3 4\n",
      "2\n"
     ]
    }
   ],
   "source": [
    "#OR\n",
    "\n",
    "print(len((set(input().split()) if input() != \"-1\" else \"\") ^ (set(input().split() if input() != \"-1\" else \"\"))))"
   ]
  },
  {
   "cell_type": "code",
   "execution_count": null,
   "metadata": {},
   "outputs": [],
   "source": []
  }
 ],
 "metadata": {
  "kernelspec": {
   "display_name": "Python 3",
   "language": "python",
   "name": "python3"
  },
  "language_info": {
   "codemirror_mode": {
    "name": "ipython",
    "version": 3
   },
   "file_extension": ".py",
   "mimetype": "text/x-python",
   "name": "python",
   "nbconvert_exporter": "python",
   "pygments_lexer": "ipython3",
   "version": "3.7.6"
  }
 },
 "nbformat": 4,
 "nbformat_minor": 4
}
