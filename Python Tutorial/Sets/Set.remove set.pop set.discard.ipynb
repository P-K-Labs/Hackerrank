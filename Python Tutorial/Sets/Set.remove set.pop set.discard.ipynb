{
 "cells": [
  {
   "cell_type": "markdown",
   "metadata": {},
   "source": [
    "# Set.remove, set.pop, set.discard"
   ]
  },
  {
   "cell_type": "markdown",
   "metadata": {},
   "source": [
    ".remove(x)\n",
    "\n",
    "This operation removes element x from the set.\n",
    "\n",
    "If element x does not exist, it raises a KeyError.\n",
    "\n",
    "The .remove(x) operation returns None if printed."
   ]
  },
  {
   "cell_type": "markdown",
   "metadata": {},
   "source": [
    ".discard(x)\n",
    "\n",
    "This operation also removes element x from the set.\n",
    "\n",
    "If element x does not exist, it does not raise a KeyError.\n",
    "\n",
    "The .discard(x) operation returns None."
   ]
  },
  {
   "cell_type": "markdown",
   "metadata": {},
   "source": [
    ".pop()\n",
    "\n",
    "This operation removes and return an arbitrary element from the set.\n",
    "\n",
    "If there are no elements to remove, it raises a KeyError."
   ]
  },
  {
   "cell_type": "markdown",
   "metadata": {},
   "source": [
    "Task\n",
    "\n",
    "You have a non-empty set s, and you have to execute n commands given in n lines.\n",
    "\n",
    "The commands will be pop, remove and discard.\n",
    "\n",
    "Print the sum of the elements of set s on a single line."
   ]
  },
  {
   "cell_type": "code",
   "execution_count": 11,
   "metadata": {},
   "outputs": [
    {
     "name": "stdout",
     "output_type": "stream",
     "text": [
      "7\n",
      "1 2 3 4 5 6 7\n",
      "3\n"
     ]
    }
   ],
   "source": [
    "n = int(input())\n",
    "\n",
    "s = set(list(map(int, input().split()))[:n])\n",
    "\n",
    "N = int(input())"
   ]
  },
  {
   "cell_type": "code",
   "execution_count": 12,
   "metadata": {},
   "outputs": [
    {
     "name": "stdout",
     "output_type": "stream",
     "text": [
      "discard 5\n",
      "pop\n",
      "remove 7\n",
      "15\n"
     ]
    }
   ],
   "source": [
    "for _ in range(N):\n",
    "    eval(\"s.{0}({1})\".format(*input().split() + [\"\"]))\n",
    "    \n",
    "print(sum(s))"
   ]
  }
 ],
 "metadata": {
  "kernelspec": {
   "display_name": "Python 3",
   "language": "python",
   "name": "python3"
  },
  "language_info": {
   "codemirror_mode": {
    "name": "ipython",
    "version": 3
   },
   "file_extension": ".py",
   "mimetype": "text/x-python",
   "name": "python",
   "nbconvert_exporter": "python",
   "pygments_lexer": "ipython3",
   "version": "3.7.6"
  }
 },
 "nbformat": 4,
 "nbformat_minor": 4
}
