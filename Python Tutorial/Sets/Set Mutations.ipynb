{
 "cells": [
  {
   "cell_type": "markdown",
   "metadata": {},
   "source": [
    "# Set Mutations\n",
    "\n"
   ]
  },
  {
   "cell_type": "markdown",
   "metadata": {},
   "source": [
    "We can use the following operations to create mutations to a set:\n",
    "\n",
    ".update() or |=\n",
    "\n",
    "Update the set by adding elements from an iterable/another set.\n",
    "\n",
    ".intersection_update() or &=\n",
    "\n",
    "Update the set by keeping only the elements found in it and an iterable/another set.\n",
    "\n",
    ".difference_update() or -=\n",
    "\n",
    "Update the set by removing elements found in an iterable/another set.\n",
    "\n",
    ".symmetric_difference_update() or ^=\n",
    "\n",
    "Update the set by only keeping the elements found in either set, but not in both.\n"
   ]
  },
  {
   "cell_type": "markdown",
   "metadata": {},
   "source": [
    "TASK\n",
    "\n",
    "You are given a set A and N number of other sets. These N number of sets have to perform some specific mutation operations on set .\n",
    "\n",
    "Your task is to execute those operations and print the sum of elements from set A.\n",
    "\n"
   ]
  },
  {
   "cell_type": "code",
   "execution_count": 5,
   "metadata": {},
   "outputs": [
    {
     "name": "stdout",
     "output_type": "stream",
     "text": [
      "3\n",
      "1 2 3\n",
      "3\n",
      "difference_update 2\n",
      "2 3\n",
      "intersection_update 1\n",
      "1\n",
      "update 4\n",
      "2 3 4 5\n",
      "{1, 2, 3, 4, 5}\n",
      "15\n"
     ]
    }
   ],
   "source": [
    "n = int(input())\n",
    "\n",
    "A = set(list(map(int, input().split()))[:n])\n",
    "\n",
    "N = int(input())\n",
    "\n",
    "for _ in range(N):\n",
    "    command, m = input().split()\n",
    "    m = int(m)\n",
    "    B = set(list(map(int, input().split()))[:m])\n",
    "    \n",
    "    eval(\"A.{0}(B)\".format(command))\n",
    "\n",
    "print(A)\n",
    "print(sum(A))"
   ]
  },
  {
   "cell_type": "code",
   "execution_count": 6,
   "metadata": {},
   "outputs": [
    {
     "name": "stdout",
     "output_type": "stream",
     "text": [
      "3\n",
      "1 2 3\n",
      "3\n",
      "difference_update 2\n",
      "2 3\n",
      "intersection_update 1\n",
      "1\n",
      "update 4\n",
      "2 3 4 5\n",
      "15\n"
     ]
    }
   ],
   "source": [
    "\n",
    "# OR\n",
    "(_, A) = (int(input()),set(map(int, input().split())))\n",
    "B = int(input())\n",
    "for _ in range(B):\n",
    "    (command, newSet) = (input().split()[0],set(map(int, input().split())))\n",
    "    getattr(A, command)(newSet)\n",
    "print(sum(A))"
   ]
  },
  {
   "cell_type": "code",
   "execution_count": null,
   "metadata": {},
   "outputs": [],
   "source": []
  }
 ],
 "metadata": {
  "kernelspec": {
   "display_name": "Python 3",
   "language": "python",
   "name": "python3"
  },
  "language_info": {
   "codemirror_mode": {
    "name": "ipython",
    "version": 3
   },
   "file_extension": ".py",
   "mimetype": "text/x-python",
   "name": "python",
   "nbconvert_exporter": "python",
   "pygments_lexer": "ipython3",
   "version": "3.7.6"
  }
 },
 "nbformat": 4,
 "nbformat_minor": 4
}
