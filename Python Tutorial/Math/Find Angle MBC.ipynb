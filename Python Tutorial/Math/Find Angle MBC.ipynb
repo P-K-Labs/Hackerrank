{
 "cells": [
  {
   "cell_type": "markdown",
   "metadata": {},
   "source": [
    "# Find Angle MBC"
   ]
  },
  {
   "cell_type": "markdown",
   "metadata": {},
   "source": [
    "abc is a right angle at B.\n",
    "\n",
    "M  is the point at which median meets side ac.\n",
    "\n",
    "find angle MBC, given sides ab and bc"
   ]
  },
  {
   "cell_type": "code",
   "execution_count": 4,
   "metadata": {
    "scrolled": true
   },
   "outputs": [
    {
     "name": "stdout",
     "output_type": "stream",
     "text": [
      "10\n",
      "10\n"
     ]
    }
   ],
   "source": [
    "x, y = int(input()), int(input())"
   ]
  },
  {
   "cell_type": "markdown",
   "metadata": {},
   "source": [
    "That a median on the hypotenuse divides the right angled triangle in two isoceles triangle.** * Means AM=BM=CM * So, ∡MBC = ∡MCB"
   ]
  },
  {
   "cell_type": "code",
   "execution_count": 7,
   "metadata": {},
   "outputs": [
    {
     "name": "stdout",
     "output_type": "stream",
     "text": [
      "45°\n"
     ]
    }
   ],
   "source": [
    "import math\n",
    "\n",
    "theta = math.atan2(x, y)\n",
    "\n",
    "print(str(int(round(math.degrees(theta)))) + \"°\")"
   ]
  }
 ],
 "metadata": {
  "kernelspec": {
   "display_name": "Python 3",
   "language": "python",
   "name": "python3"
  },
  "language_info": {
   "codemirror_mode": {
    "name": "ipython",
    "version": 3
   },
   "file_extension": ".py",
   "mimetype": "text/x-python",
   "name": "python",
   "nbconvert_exporter": "python",
   "pygments_lexer": "ipython3",
   "version": "3.7.6"
  }
 },
 "nbformat": 4,
 "nbformat_minor": 4
}
