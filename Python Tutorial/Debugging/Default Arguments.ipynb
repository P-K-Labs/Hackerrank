{
 "cells": [
  {
   "cell_type": "markdown",
   "metadata": {},
   "source": [
    "# Default Arguments"
   ]
  },
  {
   "cell_type": "markdown",
   "metadata": {},
   "source": [
    "In this challenge, the task is to debug the existing code to successfully execute all provided test files.\n",
    "\n",
    "Python supports a useful concept of default argument values. For each keyword argument of a function, we can assign a default value which is going to be used as the value of said argument if the function is called without it. For example, consider the following increment function:"
   ]
  },
  {
   "cell_type": "raw",
   "metadata": {},
   "source": [
    "def increment_by(n, increment=1):\n",
    "    return n + increment"
   ]
  },
  {
   "cell_type": "markdown",
   "metadata": {},
   "source": [
    "The functions works like this:\n",
    "\n"
   ]
  },
  {
   "cell_type": "raw",
   "metadata": {},
   "source": [
    ">>> increment_by(5, 2)\n",
    "7\n",
    ">>> increment_by(4)\n",
    "5\n",
    ">>>"
   ]
  },
  {
   "cell_type": "markdown",
   "metadata": {},
   "source": [
    "Debug the given function print_from_stream using the default value of one of its arguments.\n",
    "\n",
    "The function has the following signature:"
   ]
  },
  {
   "cell_type": "raw",
   "metadata": {},
   "source": [
    "def print_from_stream(n, stream)"
   ]
  },
  {
   "cell_type": "markdown",
   "metadata": {},
   "source": [
    "This function should print the first n values returned by get_next() method of stream object provided as an argument. Each of these values should be printed in a separate line.\n",
    "\n",
    "Whenever the function is called without the stream argument, it should use an instance of EvenStream class defined in the code stubs below as the value of stream.\n",
    "\n",
    "Your function will be tested on several cases by the locked template code."
   ]
  },
  {
   "cell_type": "raw",
   "metadata": {},
   "source": [
    "class EvenStream(object):\n",
    "    def __init__(self):\n",
    "        self.current = 0\n",
    "\n",
    "    def get_next(self):\n",
    "        to_return = self.current\n",
    "        self.current += 2\n",
    "        return to_return\n",
    "\n",
    "class OddStream(object):\n",
    "    def __init__(self):\n",
    "        self.current = 1\n",
    "\n",
    "    def get_next(self):\n",
    "        to_return = self.current\n",
    "        self.current += 2\n",
    "        return to_return\n",
    "\n",
    "def print_from_stream(n, stream=EvenStream()):\n",
    "    for _ in range(n):\n",
    "        print(stream.get_next())\n",
    "\n",
    "\n",
    "queries = int(input())\n",
    "for _ in range(queries):\n",
    "    stream_name, n = input().split()\n",
    "    n = int(n)\n",
    "    if stream_name == \"even\":\n",
    "        print_from_stream(n)\n",
    "    else:\n",
    "        print_from_stream(n, OddStream())"
   ]
  },
  {
   "cell_type": "code",
   "execution_count": null,
   "metadata": {},
   "outputs": [],
   "source": [
    "# Corrected\n",
    "\n",
    "class EvenStream(object):\n",
    "    def __init__(self):\n",
    "        self.current = 0\n",
    "\n",
    "    def get_next(self):\n",
    "        to_return = self.current\n",
    "        self.current += 2\n",
    "        return to_return\n",
    "\n",
    "class OddStream(object):\n",
    "    def __init__(self):\n",
    "        self.current = 1\n",
    "\n",
    "    def get_next(self):\n",
    "        to_return = self.current\n",
    "        self.current += 2\n",
    "        return to_return\n",
    "\n",
    "def print_from_stream(n, stream=EvenStream()):\n",
    "    self.__init__()\n",
    "    for _ in range(n):\n",
    "        print(stream.get_next())\n",
    "\n",
    "\n",
    "queries = int(input())\n",
    "for _ in range(queries):\n",
    "    stream_name, n = input().split()\n",
    "    n = int(n)\n",
    "    if stream_name == \"even\":\n",
    "        print_from_stream(n)\n",
    "    else:\n",
    "        print_from_stream(n, OddStream())"
   ]
  },
  {
   "cell_type": "code",
   "execution_count": null,
   "metadata": {},
   "outputs": [],
   "source": []
  }
 ],
 "metadata": {
  "kernelspec": {
   "display_name": "Python 3",
   "language": "python",
   "name": "python3"
  },
  "language_info": {
   "codemirror_mode": {
    "name": "ipython",
    "version": 3
   },
   "file_extension": ".py",
   "mimetype": "text/x-python",
   "name": "python",
   "nbconvert_exporter": "python",
   "pygments_lexer": "ipython3",
   "version": "3.7.6"
  }
 },
 "nbformat": 4,
 "nbformat_minor": 4
}
