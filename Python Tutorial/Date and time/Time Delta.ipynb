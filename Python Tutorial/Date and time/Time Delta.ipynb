{
 "cells": [
  {
   "cell_type": "markdown",
   "metadata": {},
   "source": [
    "# Time Delta\n",
    "\n"
   ]
  },
  {
   "cell_type": "markdown",
   "metadata": {},
   "source": [
    "When users post an update on social media,such as a URL, image, status update etc., other users in their network are able to view this new post on their news feed. Users can also see exactly when the post was published, i.e, how many hours, minutes or seconds ago.\n",
    "\n",
    "Since sometimes posts are published and viewed in different time zones, this can be confusing. You are given two timestamps of one such post that a user can see on his newsfeed in the following format:\n",
    "\n",
    "Day dd Mon yyyy hh:mm:ss +xxxx\n",
    "\n",
    "Here +xxxx represents the time zone. Your task is to print the absolute difference (in seconds) between them."
   ]
  },
  {
   "cell_type": "code",
   "execution_count": 1,
   "metadata": {},
   "outputs": [
    {
     "name": "stdout",
     "output_type": "stream",
     "text": [
      "2\n",
      "Sun 10 May 2015 13:54:36 -0700\n",
      "Sun 10 May 2015 13:54:36 -0000\n",
      "25200\n",
      "Sat 02 May 2015 19:54:36 +0530\n",
      "Fri 01 May 2015 13:54:36 -0000\n",
      "88200\n"
     ]
    }
   ],
   "source": [
    "from datetime import datetime as dt\n",
    "\n",
    "fmt = \"%a %d %b %Y %H:%M:%S %z\"\n",
    "\n",
    "for test in range(int(input())):\n",
    "    t1 = str(input())\n",
    "    t2 = str(input())\n",
    "    \n",
    "    t1 = dt.strptime(t1, fmt)\n",
    "    t2 = dt.strptime(t2, fmt)\n",
    "    \n",
    "    print(int(abs((t1 - t2).total_seconds())))"
   ]
  },
  {
   "cell_type": "code",
   "execution_count": 2,
   "metadata": {},
   "outputs": [
    {
     "name": "stdout",
     "output_type": "stream",
     "text": [
      "2\n",
      "Sun 10 May 2015 13:54:36 -0700\n",
      "Sun 10 May 2015 13:54:36 -0000\n",
      "25200\n",
      "Sat 02 May 2015 19:54:36 +0530\n",
      "Fri 01 May 2015 13:54:36 -0000\n",
      "88200\n"
     ]
    }
   ],
   "source": [
    "# OR\n",
    "\n",
    "from datetime import datetime as dt\n",
    "\n",
    "\n",
    "fmt = '%a %d %b %Y %H:%M:%S %z'\n",
    "for i in range(int(input())):\n",
    "    print(int(abs((dt.strptime(input(), fmt) - \n",
    "                   dt.strptime(input(), fmt)).total_seconds())))"
   ]
  },
  {
   "cell_type": "code",
   "execution_count": null,
   "metadata": {},
   "outputs": [],
   "source": []
  }
 ],
 "metadata": {
  "kernelspec": {
   "display_name": "Python 3",
   "language": "python",
   "name": "python3"
  },
  "language_info": {
   "codemirror_mode": {
    "name": "ipython",
    "version": 3
   },
   "file_extension": ".py",
   "mimetype": "text/x-python",
   "name": "python",
   "nbconvert_exporter": "python",
   "pygments_lexer": "ipython3",
   "version": "3.7.6"
  }
 },
 "nbformat": 4,
 "nbformat_minor": 4
}
