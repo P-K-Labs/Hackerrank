{
 "cells": [
  {
   "cell_type": "markdown",
   "metadata": {},
   "source": [
    "# Compress the String!\n",
    "\n"
   ]
  },
  {
   "cell_type": "markdown",
   "metadata": {},
   "source": [
    "In this task, we would like for you to appreciate the usefulness of the groupby() function of itertools.\n",
    "\n"
   ]
  },
  {
   "cell_type": "code",
   "execution_count": 4,
   "metadata": {},
   "outputs": [
    {
     "name": "stdout",
     "output_type": "stream",
     "text": [
      "h <itertools._grouper object at 0x0000022567E4A6C8>\n",
      "a <itertools._grouper object at 0x0000022567E47F88>\n",
      "c <itertools._grouper object at 0x0000022567E47EC8>\n",
      "k <itertools._grouper object at 0x0000022567E47F88>\n",
      "h ['h', 'h']\n",
      "a ['a']\n",
      "c ['c', 'c']\n",
      "k ['k']\n"
     ]
    }
   ],
   "source": [
    "# Explaination\n",
    "\n",
    "s = \"hhacck\"\n",
    "\n",
    "from itertools import groupby\n",
    "\n",
    "for k, c in groupby(s):\n",
    "    print(k,c)\n",
    "    \n",
    "for k, c in groupby(s):\n",
    "    print(k,list(c))"
   ]
  },
  {
   "cell_type": "markdown",
   "metadata": {},
   "source": [
    "You are given a string S. Suppose a character 'c' occurs consecutively X times in the string. Replace these consecutive occurrences of the character 'c' with (X,c) in the string.\n"
   ]
  },
  {
   "cell_type": "code",
   "execution_count": 13,
   "metadata": {},
   "outputs": [
    {
     "name": "stdout",
     "output_type": "stream",
     "text": [
      "1222311\n",
      "(1, 1) (3, 2) (1, 3) (2, 1)\n"
     ]
    }
   ],
   "source": [
    "s = input()\n",
    "\n",
    "print(*[(len(list(c)), int(k)) for k, c in groupby(s)])"
   ]
  }
 ],
 "metadata": {
  "kernelspec": {
   "display_name": "Python 3",
   "language": "python",
   "name": "python3"
  },
  "language_info": {
   "codemirror_mode": {
    "name": "ipython",
    "version": 3
   },
   "file_extension": ".py",
   "mimetype": "text/x-python",
   "name": "python",
   "nbconvert_exporter": "python",
   "pygments_lexer": "ipython3",
   "version": "3.7.6"
  }
 },
 "nbformat": 4,
 "nbformat_minor": 4
}
