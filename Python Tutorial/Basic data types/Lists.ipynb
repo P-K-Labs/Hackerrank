{
 "cells": [
  {
   "cell_type": "markdown",
   "metadata": {},
   "source": [
    "# Lists\n",
    "\n"
   ]
  },
  {
   "cell_type": "markdown",
   "metadata": {},
   "source": [
    "Consider a list (list = []). You can perform the following commands:\n",
    "\n",
    "- insert i e: Insert integer e at position i.\n",
    "- print: Print the list.\n",
    "- remove e: Delete the first occurrence of integer e.\n",
    "- append e: Insert integer e at the end of the list.\n",
    "- sort: Sort the list.\n",
    "- pop: Pop the last element from the list.\n",
    "- reverse: Reverse the list."
   ]
  },
  {
   "cell_type": "code",
   "execution_count": 1,
   "metadata": {},
   "outputs": [
    {
     "name": "stdout",
     "output_type": "stream",
     "text": [
      "3\n"
     ]
    }
   ],
   "source": [
    "test = int(input())\n",
    "s = []"
   ]
  },
  {
   "cell_type": "code",
   "execution_count": 2,
   "metadata": {},
   "outputs": [
    {
     "name": "stdout",
     "output_type": "stream",
     "text": [
      "insert 3 1\n",
      "append 2\n",
      "print\n",
      "[1, 2]\n"
     ]
    }
   ],
   "source": [
    "for _ in range(test):\n",
    "    cmd = list(input().split())\n",
    "    \n",
    "    if cmd[0] == \"insert\":\n",
    "        s.insert(int(cmd[1]), int(cmd[2]))\n",
    "    elif cmd[0] == \"print\":\n",
    "        print(s)\n",
    "    elif cmd[0] == \"remove\":\n",
    "        s.remove(int(cmd[1]))\n",
    "    elif cmd[0] == \"append\":\n",
    "        s.append(int(cmd[1]))\n",
    "    elif cmd[0] == \"sort\":\n",
    "        s.sort()\n",
    "    elif cmd[0] == \"pop\":\n",
    "        s.pop()\n",
    "    elif cmd[0] == \"reverse\":\n",
    "        s.reverse()\n",
    "    \n"
   ]
  },
  {
   "cell_type": "code",
   "execution_count": 7,
   "metadata": {},
   "outputs": [
    {
     "name": "stdout",
     "output_type": "stream",
     "text": [
      "3\n",
      "insert 0 10\n",
      "insert 0 6\n",
      "print\n",
      "[6, 10]\n"
     ]
    }
   ],
   "source": [
    "# OR\n",
    "\n",
    "n = int(input())\n",
    "l = []\n",
    "for _ in range(n):\n",
    "    s = input().split()\n",
    "    cmd = s[0]\n",
    "    args = s[1:]\n",
    "    if cmd !=\"print\":\n",
    "        cmd += \"(\"+ \",\".join(args) +\")\"\n",
    "        eval(\"l.\"+cmd)\n",
    "    else:\n",
    "        print(l)"
   ]
  },
  {
   "cell_type": "code",
   "execution_count": null,
   "metadata": {},
   "outputs": [],
   "source": []
  }
 ],
 "metadata": {
  "kernelspec": {
   "display_name": "Python 3",
   "language": "python",
   "name": "python3"
  },
  "language_info": {
   "codemirror_mode": {
    "name": "ipython",
    "version": 3
   },
   "file_extension": ".py",
   "mimetype": "text/x-python",
   "name": "python",
   "nbconvert_exporter": "python",
   "pygments_lexer": "ipython3",
   "version": "3.7.6"
  }
 },
 "nbformat": 4,
 "nbformat_minor": 4
}
