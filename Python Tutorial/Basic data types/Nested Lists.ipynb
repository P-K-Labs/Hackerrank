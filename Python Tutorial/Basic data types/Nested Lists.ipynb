{
 "cells": [
  {
   "cell_type": "markdown",
   "metadata": {},
   "source": [
    "# Nested Lists"
   ]
  },
  {
   "cell_type": "markdown",
   "metadata": {},
   "source": [
    "Given the names and grades for each student in a class of N students, store them in a nested list and print the name(s) of any student(s) having the second lowest grade."
   ]
  },
  {
   "cell_type": "markdown",
   "metadata": {},
   "source": [
    "If there are multiple students with the second lowest grade, order their names alphabetically and print each name on a new line."
   ]
  },
  {
   "cell_type": "code",
   "execution_count": 2,
   "metadata": {},
   "outputs": [
    {
     "name": "stdout",
     "output_type": "stream",
     "text": [
      "4\n",
      "harry\n",
      "50\n",
      "meghan\n",
      "60\n",
      "daniel\n",
      "71\n",
      "xeta\n",
      "35\n",
      "harry\n"
     ]
    }
   ],
   "source": [
    "marksheet=[]\n",
    "scorelist=[]\n",
    "if __name__ == '__main__':\n",
    "        for _ in range(int(input())):\n",
    "                name = input()\n",
    "                score = float(input())\n",
    "                marksheet+=[[name,score]]\n",
    "                scorelist+=[score]\n",
    "        b=sorted(list(set(scorelist)))[1] \n",
    "\n",
    "        for a,c in sorted(marksheet):\n",
    "             if c==b:\n",
    "                    print(a)"
   ]
  },
  {
   "cell_type": "code",
   "execution_count": null,
   "metadata": {},
   "outputs": [],
   "source": []
  }
 ],
 "metadata": {
  "kernelspec": {
   "display_name": "Python 3",
   "language": "python",
   "name": "python3"
  },
  "language_info": {
   "codemirror_mode": {
    "name": "ipython",
    "version": 3
   },
   "file_extension": ".py",
   "mimetype": "text/x-python",
   "name": "python",
   "nbconvert_exporter": "python",
   "pygments_lexer": "ipython3",
   "version": "3.7.6"
  }
 },
 "nbformat": 4,
 "nbformat_minor": 4
}
