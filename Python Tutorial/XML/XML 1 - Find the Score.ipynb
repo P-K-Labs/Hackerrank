{
 "cells": [
  {
   "cell_type": "markdown",
   "metadata": {},
   "source": [
    "# XML 1 - Find the Score\n",
    "\n"
   ]
  },
  {
   "cell_type": "markdown",
   "metadata": {},
   "source": [
    "You are given a valid XML document, and you have to print its score. The score is calculated by the sum of the score of each element. For any element, the score is equal to the number of attributes it has."
   ]
  },
  {
   "cell_type": "code",
   "execution_count": 1,
   "metadata": {},
   "outputs": [
    {
     "name": "stdout",
     "output_type": "stream",
     "text": [
      "6\n",
      "<feed xml:lang='en'>\n",
      "    <title>HackerRank</title>\n",
      "    <subtitle lang='en'>Programming challenges</subtitle>\n",
      "    <link rel='alternate' type='text/html' href='http://hackerrank.com/'/>\n",
      "    <updated>2013-12-25T12:00:00</updated>\n",
      "</feed>\n",
      "5\n"
     ]
    }
   ],
   "source": [
    "def get_attr_number(root):\n",
    "    count = len(root.attrib)\n",
    "    for child in root:\n",
    "        count += get_attr_number(child)\n",
    "    return count\n",
    "\n",
    "import xml.etree.ElementTree as etree\n",
    "\n",
    "xml = \"\".join([input() for _ in range(int(input()))])\n",
    "\n",
    "tree = etree.ElementTree(etree.fromstring(xml))\n",
    "root = tree.getroot()\n",
    "count = get_attr_number(root)\n",
    "\n",
    "print(count)"
   ]
  },
  {
   "cell_type": "markdown",
   "metadata": {},
   "source": [
    "Explaination"
   ]
  },
  {
   "cell_type": "code",
   "execution_count": 4,
   "metadata": {},
   "outputs": [
    {
     "data": {
      "text/plain": [
       "<xml.etree.ElementTree.ElementTree at 0x2063cab1d08>"
      ]
     },
     "execution_count": 4,
     "metadata": {},
     "output_type": "execute_result"
    }
   ],
   "source": [
    "tree"
   ]
  },
  {
   "cell_type": "code",
   "execution_count": 6,
   "metadata": {},
   "outputs": [
    {
     "data": {
      "text/plain": [
       "<Element 'feed' at 0x000002063CBF9EA8>"
      ]
     },
     "execution_count": 6,
     "metadata": {},
     "output_type": "execute_result"
    }
   ],
   "source": [
    "root"
   ]
  },
  {
   "cell_type": "code",
   "execution_count": 15,
   "metadata": {},
   "outputs": [
    {
     "data": {
      "text/plain": [
       "{'{http://www.w3.org/XML/1998/namespace}lang': 'en'}"
      ]
     },
     "execution_count": 15,
     "metadata": {},
     "output_type": "execute_result"
    }
   ],
   "source": [
    "root.attrib"
   ]
  },
  {
   "cell_type": "code",
   "execution_count": 21,
   "metadata": {},
   "outputs": [
    {
     "name": "stdout",
     "output_type": "stream",
     "text": [
      "{}\n",
      "{'lang': 'en'}\n",
      "{'rel': 'alternate', 'type': 'text/html', 'href': 'http://hackerrank.com/'}\n",
      "{}\n"
     ]
    }
   ],
   "source": [
    "for i in root:\n",
    "    print(i.attrib)"
   ]
  },
  {
   "cell_type": "code",
   "execution_count": null,
   "metadata": {},
   "outputs": [],
   "source": []
  }
 ],
 "metadata": {
  "kernelspec": {
   "display_name": "Python 3",
   "language": "python",
   "name": "python3"
  },
  "language_info": {
   "codemirror_mode": {
    "name": "ipython",
    "version": 3
   },
   "file_extension": ".py",
   "mimetype": "text/x-python",
   "name": "python",
   "nbconvert_exporter": "python",
   "pygments_lexer": "ipython3",
   "version": "3.7.6"
  }
 },
 "nbformat": 4,
 "nbformat_minor": 4
}
