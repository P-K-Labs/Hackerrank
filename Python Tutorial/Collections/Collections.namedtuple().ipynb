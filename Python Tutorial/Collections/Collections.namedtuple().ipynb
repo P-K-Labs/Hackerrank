{
 "cells": [
  {
   "cell_type": "markdown",
   "metadata": {},
   "source": [
    "# Collections.namedtuple()"
   ]
  },
  {
   "cell_type": "markdown",
   "metadata": {},
   "source": [
    "collections.namedtuple()\n",
    "\n",
    "Basically, namedtuples are easy to create, lightweight object types.\n",
    "\n",
    "They turn tuples into convenient containers for simple tasks.\n",
    "\n",
    "With namedtuples, you don’t have to use integer indices for accessing members of a tuple."
   ]
  },
  {
   "cell_type": "code",
   "execution_count": 1,
   "metadata": {},
   "outputs": [
    {
     "name": "stdout",
     "output_type": "stream",
     "text": [
      "11\n"
     ]
    }
   ],
   "source": [
    "from collections import namedtuple\n",
    "\n",
    "Point = namedtuple(\"Point\", \"x,y\")\n",
    "pt1 = Point(1,2)\n",
    "pt2 = Point(3,4)\n",
    "dot_product = pt1.x*pt2.x + pt1.y*pt2.y\n",
    "print(dot_product)"
   ]
  },
  {
   "cell_type": "code",
   "execution_count": 2,
   "metadata": {},
   "outputs": [
    {
     "name": "stdout",
     "output_type": "stream",
     "text": [
      "Car(Price=100000, Mileage=30, Colour='Cyan', Class='Y')\n",
      "Y\n"
     ]
    }
   ],
   "source": [
    "Car = namedtuple('Car','Price Mileage Colour Class')\n",
    "xyz = Car(Price = 100000, Mileage = 30, Colour = 'Cyan', Class = 'Y')\n",
    "print(xyz)\n",
    "\n",
    "print(xyz.Class)"
   ]
  },
  {
   "cell_type": "markdown",
   "metadata": {},
   "source": [
    "Task\n",
    "\n",
    "Dr. John Wesley has a spreadsheet containing a list of student's ID, MARKS, CLASS and NAME.\n",
    "\n",
    "Your task is to help Dr. Wesley calculate the average marks of the students."
   ]
  },
  {
   "cell_type": "code",
   "execution_count": 22,
   "metadata": {},
   "outputs": [
    {
     "name": "stdout",
     "output_type": "stream",
     "text": [
      "2\n",
      "id marks name class\n"
     ]
    }
   ],
   "source": [
    "N = int(input())\n",
    "headers = input()\n",
    "\n",
    "\n",
    "headers = headers.upper()\n"
   ]
  },
  {
   "cell_type": "code",
   "execution_count": 23,
   "metadata": {},
   "outputs": [
    {
     "name": "stdout",
     "output_type": "stream",
     "text": [
      "1 3 john 2\n",
      "2 4 cary 3\n",
      "3.50\n"
     ]
    }
   ],
   "source": [
    "from collections import namedtuple\n",
    "Classlist = namedtuple(\"Classlist\", headers)\n",
    "\n",
    "total = [Classlist(*input().split()).MARKS for _ in range(N)]\n",
    "print(\"{0:.2f}\".format(sum(map(int, total))/N))"
   ]
  },
  {
   "cell_type": "code",
   "execution_count": 25,
   "metadata": {},
   "outputs": [
    {
     "name": "stdout",
     "output_type": "stream",
     "text": [
      "2\n",
      "id name marks class\n",
      "1 john 3 2\n",
      "2 cary 4 3\n",
      "3.50\n"
     ]
    }
   ],
   "source": [
    "# OR\n",
    "N = int(input())\n",
    "headers = input().split()\n",
    "headers = [s.upper() for s in headers]\n",
    "\n",
    "\n",
    "from collections import namedtuple\n",
    "Classlist = namedtuple(\"Classlist\", headers)\n",
    "\n",
    "total = [Classlist(*input().split()).MARKS for _ in range(N)]\n",
    "print(\"{0:.2f}\".format(sum(map(int, total))/N))"
   ]
  }
 ],
 "metadata": {
  "kernelspec": {
   "display_name": "Python 3",
   "language": "python",
   "name": "python3"
  },
  "language_info": {
   "codemirror_mode": {
    "name": "ipython",
    "version": 3
   },
   "file_extension": ".py",
   "mimetype": "text/x-python",
   "name": "python",
   "nbconvert_exporter": "python",
   "pygments_lexer": "ipython3",
   "version": "3.7.6"
  }
 },
 "nbformat": 4,
 "nbformat_minor": 4
}
