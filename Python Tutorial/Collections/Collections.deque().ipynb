{
 "cells": [
  {
   "cell_type": "markdown",
   "metadata": {},
   "source": [
    "# Collections.deque()\n",
    "\n"
   ]
  },
  {
   "cell_type": "markdown",
   "metadata": {},
   "source": [
    "collections.deque()\n",
    "\n",
    "A deque is a double-ended queue. It can be used to add or remove elements from both ends.\n",
    "\n",
    "Deques support thread safe, memory efficient appends and pops from either side of the deque with approximately the same O(1) performance in either direction."
   ]
  },
  {
   "cell_type": "code",
   "execution_count": 1,
   "metadata": {},
   "outputs": [
    {
     "name": "stdout",
     "output_type": "stream",
     "text": [
      "deque([1])\n",
      "deque([2, 1])\n",
      "deque([])\n",
      "deque(['1'])\n",
      "deque(['4', '3', '2', '1'])\n",
      "deque(['4', '3', '2'])\n",
      "deque(['3', '2'])\n",
      "deque(['3', '2', '7', '8', '9', '6'])\n",
      "deque(['3', '7', '8', '9', '6'])\n",
      "deque(['6', '9', '8', '7', '3'])\n",
      "deque(['8', '7', '3', '6', '9'])\n"
     ]
    }
   ],
   "source": [
    "from collections import deque\n",
    "d = deque()\n",
    "d.append(1)\n",
    "print(d)\n",
    "#deque([1])\n",
    " \n",
    "d.appendleft(2)\n",
    "print(d)\n",
    "#deque([2, 1])\n",
    "\n",
    "d.clear()\n",
    "print(d)\n",
    "#deque([])\n",
    "\n",
    "d.extend('1')\n",
    "print(d)\n",
    "#deque(['1'])\n",
    "\n",
    "d.extendleft('234')\n",
    "print(d)\n",
    "#deque(['4', '3', '2', '1'])\n",
    "\n",
    "d.count('1')\n",
    "#1\n",
    " \n",
    "d.pop()\n",
    "#'1'\n",
    "\n",
    "print(d)\n",
    "#deque(['4', '3', '2'])\n",
    "\n",
    "d.popleft()\n",
    "#'4'\n",
    "\n",
    "print(d)\n",
    "#deque(['3', '2'])\n",
    "\n",
    "d.extend('7896')\n",
    "print(d)\n",
    "#deque(['3', '2', '7', '8', '9', '6'])\n",
    "\n",
    "d.remove('2')\n",
    "print(d)\n",
    "#deque(['3', '7', '8', '9', '6'])\n",
    "\n",
    "d.reverse()\n",
    "print(d)\n",
    "#deque(['6', '9', '8', '7', '3'])\n",
    "\n",
    "d.rotate(3)\n",
    "print(d)\n",
    "#deque(['8', '7', '3', '6', '9'])"
   ]
  },
  {
   "cell_type": "markdown",
   "metadata": {},
   "source": [
    "Task\n",
    "\n",
    "Perform append, pop, popleft and appendleft methods on an empty deque d."
   ]
  },
  {
   "cell_type": "code",
   "execution_count": 6,
   "metadata": {},
   "outputs": [
    {
     "name": "stdout",
     "output_type": "stream",
     "text": [
      "6\n",
      "append 1\n",
      "append 2\n",
      "append 3\n",
      "appendleft 4\n",
      "pop\n",
      "popleft\n",
      "1 2\n"
     ]
    }
   ],
   "source": [
    "from collections import deque\n",
    "\n",
    "d = deque()\n",
    "\n",
    "for _ in range(int(input())):\n",
    "    cmd = input().split()\n",
    "    eval(\"d.{0}({1})\".format(cmd[0], *[cmd[1] if len(cmd) > 1 else \"\"]))\n",
    "\n",
    "print(*d)"
   ]
  },
  {
   "cell_type": "code",
   "execution_count": 8,
   "metadata": {},
   "outputs": [
    {
     "name": "stdout",
     "output_type": "stream",
     "text": [
      "6\n",
      "append 1\n",
      "append 2\n",
      "append 3\n",
      "appendleft 4\n",
      "pop\n",
      "popleft\n",
      "1 2\n"
     ]
    }
   ],
   "source": [
    "# OR\n",
    "\n",
    "from collections import deque\n",
    "d = deque()\n",
    "for _ in range(int(input())):\n",
    "    inp = input().split()\n",
    "    getattr(d, inp[0])(*[inp[1]] if len(inp) > 1 else [])\n",
    "print(*[item for item in d])"
   ]
  }
 ],
 "metadata": {
  "kernelspec": {
   "display_name": "Python 3",
   "language": "python",
   "name": "python3"
  },
  "language_info": {
   "codemirror_mode": {
    "name": "ipython",
    "version": 3
   },
   "file_extension": ".py",
   "mimetype": "text/x-python",
   "name": "python",
   "nbconvert_exporter": "python",
   "pygments_lexer": "ipython3",
   "version": "3.7.6"
  }
 },
 "nbformat": 4,
 "nbformat_minor": 4
}
